{
 "cells": [
  {
   "cell_type": "markdown",
   "metadata": {},
   "source": [
    "## FACE DETECTION EXAMPLES\n",
    "### This Notebook Contains This Modules For Face Detection:\n",
    "<ul>\n",
    "  <li>MTCNN For Tensorflow</li>\n",
    "  <li>MTCNN For Pytorch</li>\n",
    "  <li>SSD CV2 For Caffe</li>\n",
    "  <li>Haarcascade Cv2</li>\n",
    "   <li>Ultralight for Pytorch</li> \n",
    "</ul>  "
   ]
  },
  {
   "cell_type": "code",
   "execution_count": null,
   "metadata": {
    "tags": []
   },
   "outputs": [],
   "source": [
    "import cv2\n",
    "from deep_utils import Box, show_destroy_cv2, Point\n",
    "from deep_utils import face_detector_loader"
   ]
  },
  {
   "cell_type": "markdown",
   "metadata": {
    "tags": []
   },
   "source": [
    "### Select The Model You Want to Use Below\n",
    "<br>"
   ]
  },
  {
   "cell_type": "markdown",
   "metadata": {},
   "source": [
    "### MTCNN Face Detector For Tensorflow\n",
    "#### (Activate Your Tensorflow >= 2.x Environment)"
   ]
  },
  {
   "cell_type": "code",
   "execution_count": null,
   "metadata": {
    "jupyter": {
     "outputs_hidden": false
    },
    "pycharm": {
     "name": "#%%\n"
    }
   },
   "outputs": [],
   "source": [
    "face_detector = face_detector_loader('MTCNNTFFaceDetector')\n",
    "img = cv2.imread('../data/movie-stars.jpg')\n",
    "res = face_detector.detect_faces(img, is_rgb=False, get_time=True, confidence=0.99)\n",
    "for points in res['landmarks'].values():\n",
    "    Point.put_point(img, points, radius=3)\n",
    "img = Box.put_box(img, res['boxes'])\n",
    "print(\"boxes:\", res['boxes'], \"confidences: \", res['confidences'], \"elapsed_time: \", res['elapsed_time'])\n",
    "show_destroy_cv2(img)"
   ]
  },
  {
   "cell_type": "markdown",
   "metadata": {},
   "source": [
    "### MTCNN Face Detector For PyTorch\n",
    "#### (Activate Your Pytorch Environment)"
   ]
  },
  {
   "cell_type": "code",
   "execution_count": null,
   "metadata": {
    "jupyter": {
     "outputs_hidden": false
    },
    "pycharm": {
     "name": "#%%\n"
    }
   },
   "outputs": [],
   "source": [
    "face_detector = face_detector_loader('MTCNNTorchFaceDetector')\n",
    "img = cv2.imread('../data/movie-stars.jpg')\n",
    "res = face_detector.detect_faces(img, is_rgb=False, get_time=True, confidence=0.99)\n",
    "for points in res['landmarks'].values():\n",
    "    Point.put_point(img, points, radius=3)\n",
    "img = Box.put_box(img, res['boxes'])\n",
    "print(\"boxes:\", res['boxes'], \"confidences: \", res['confidences'], \"elapsed_time: \", res['elapsed_time'])\n",
    "show_destroy_cv2(img)"
   ]
  },
  {
   "cell_type": "markdown",
   "metadata": {},
   "source": [
    "### SSD CV2 Face Detector For Caffe"
   ]
  },
  {
   "cell_type": "code",
   "execution_count": null,
   "metadata": {
    "jupyter": {
     "outputs_hidden": false
    },
    "pycharm": {
     "name": "#%%\n"
    }
   },
   "outputs": [],
   "source": [
    "face_detector = face_detector_loader('SSDCV2CaffeFaceDetector')\n",
    "img = cv2.imread('../data/movie-stars.jpg')\n",
    "res = face_detector.detect_faces(img, is_rgb=False, get_time=True)\n",
    "for points in res['landmarks'].values():\n",
    "    Point.put_point(img, points, radius=3)\n",
    "img = Box.put_box(img, res['boxes'])\n",
    "print(\"boxes:\", res['boxes'], \"confidences: \", res['confidences'], \"elapsed_time: \", res['elapsed_time'])\n",
    "show_destroy_cv2(img)"
   ]
  },
  {
   "cell_type": "markdown",
   "metadata": {},
   "source": [
    "### Haarcascade Cv2 Face Detector"
   ]
  },
  {
   "cell_type": "code",
   "execution_count": null,
   "metadata": {
    "jupyter": {
     "outputs_hidden": false
    },
    "pycharm": {
     "name": "#%%\n"
    }
   },
   "outputs": [],
   "source": [
    "face_detector = face_detector_loader(\"HaarcascadeCV2FaceDetector\")\n",
    "img = cv2.imread('../data/movie-stars.jpg')\n",
    "res = face_detector.detect_faces(img, is_rgb=False, get_time=True)\n",
    "for points in res['landmarks'].values():\n",
    "    Point.put_point(img, points, radius=3)\n",
    "img = Box.put_box(img, res['boxes'])\n",
    "print(\"boxes:\", res['boxes'], \"confidences: \", res['confidences'], \"elapsed_time: \", res['elapsed_time'])\n",
    "show_destroy_cv2(img)\n"
   ]
  },
  {
   "cell_type": "markdown",
   "metadata": {},
   "source": [
    "### Ultralight Pytorch Face Detector\n",
    "#### (Activate Your Pytorch Environment)"
   ]
  },
  {
   "cell_type": "code",
   "execution_count": null,
   "metadata": {},
   "outputs": [],
   "source": [
    "face_detector = face_detector_loader(\"UltralightTorchFaceDetector\")\n",
    "img = cv2.imread('../data/movie-stars.jpg')\n",
    "res = face_detector.detect_faces(img, is_rgb=False, get_time=True, confidence=0.90, net_type=\"RBF\")\n",
    "if len(res['landmarks']) != 0:\n",
    "    for points in res['landmarks'].values():\n",
    "        Point.put_point(img, points, radius=3)\n",
    "img = Box.put_box(img, res['boxes'])\n",
    "print(\"boxes:\", res['boxes'], \"confidences: \", res['confidences'], \"elapsed_time: \", res['elapsed_time'])\n",
    "show_destroy_cv2(img)"
   ]
  },
  {
   "cell_type": "code",
   "execution_count": null,
   "metadata": {},
   "outputs": [],
   "source": []
  }
 ],
 "metadata": {
  "kernelspec": {
   "display_name": "Python 3",
   "language": "python",
   "name": "python3"
  },
  "language_info": {
   "codemirror_mode": {
    "name": "ipython",
    "version": 3
   },
   "file_extension": ".py",
   "mimetype": "text/x-python",
   "name": "python",
   "nbconvert_exporter": "python",
   "pygments_lexer": "ipython3",
   "version": "3.8.11"
  }
 },
 "nbformat": 4,
 "nbformat_minor": 4
}
