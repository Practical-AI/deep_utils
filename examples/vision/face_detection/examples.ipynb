{
 "cells": [
  {
   "cell_type": "code",
   "execution_count": null,
   "metadata": {
    "pycharm": {
     "is_executing": true
    },
    "tags": []
   },
   "outputs": [],
   "source": [
    "import cv2\n",
    "from deep_utils import Box, show_destroy_cv2, Point\n",
    "from deep_utils import face_detector_loader"
   ]
  },
  {
   "cell_type": "markdown",
   "metadata": {
    "pycharm": {
     "name": "#%% md\n"
    }
   },
   "source": [
    "### Load Your Image or Images Here"
   ]
  },
  {
   "cell_type": "code",
   "execution_count": null,
   "metadata": {
    "collapsed": false,
    "jupyter": {
     "outputs_hidden": false
    },
    "pycharm": {
     "name": "#%%\n"
    }
   },
   "outputs": [],
   "source": [
    "img = cv2.imread('../data/movie-stars.jpg')"
   ]
  },
  {
   "cell_type": "markdown",
   "metadata": {
    "tags": []
   },
   "source": [
    "### Then Select The Model You Want to Use Below\n",
    "<br>"
   ]
  },
  {
   "cell_type": "markdown",
   "metadata": {},
   "source": [
    "### MTCNN Face Detector For Tensorflow\n",
    "#### (Activate Your Tensorflow >= 2.x Environment)"
   ]
  },
  {
   "cell_type": "code",
   "execution_count": null,
   "metadata": {
    "collapsed": false,
    "jupyter": {
     "outputs_hidden": false
    },
    "pycharm": {
     "is_executing": true,
     "name": "#%%\n"
    }
   },
   "outputs": [
    {
     "name": "stdout",
     "output_type": "stream",
     "text": [
      "WARNING:tensorflow:5 out of the last 5 calls to <function Model.make_predict_function.<locals>.predict_function at 0x7fbd60eccee0> triggered tf.function retracing. Tracing is expensive and the excessive number of tracings is likely due to passing python objects instead of tensors. Also, tf.function has experimental_relax_shapes=True option that relaxes argument shapes that can avoid unnecessary retracing. Please refer to https://www.tensorflow.org/tutorials/customization/performance#python_or_tensor_args and https://www.tensorflow.org/api_docs/python/tf/function for more details.\n",
      "WARNING:tensorflow:6 out of the last 6 calls to <function Model.make_predict_function.<locals>.predict_function at 0x7fbd60eccee0> triggered tf.function retracing. Tracing is expensive and the excessive number of tracings is likely due to passing python objects instead of tensors. Also, tf.function has experimental_relax_shapes=True option that relaxes argument shapes that can avoid unnecessary retracing. Please refer to https://www.tensorflow.org/tutorials/customization/performance#python_or_tensor_args and https://www.tensorflow.org/api_docs/python/tf/function for more details.\n",
      "WARNING:tensorflow:7 out of the last 7 calls to <function Model.make_predict_function.<locals>.predict_function at 0x7fbd60eccee0> triggered tf.function retracing. Tracing is expensive and the excessive number of tracings is likely due to passing python objects instead of tensors. Also, tf.function has experimental_relax_shapes=True option that relaxes argument shapes that can avoid unnecessary retracing. Please refer to https://www.tensorflow.org/tutorials/customization/performance#python_or_tensor_args and https://www.tensorflow.org/api_docs/python/tf/function for more details.\n",
      "WARNING:tensorflow:8 out of the last 8 calls to <function Model.make_predict_function.<locals>.predict_function at 0x7fbd60eccee0> triggered tf.function retracing. Tracing is expensive and the excessive number of tracings is likely due to passing python objects instead of tensors. Also, tf.function has experimental_relax_shapes=True option that relaxes argument shapes that can avoid unnecessary retracing. Please refer to https://www.tensorflow.org/tutorials/customization/performance#python_or_tensor_args and https://www.tensorflow.org/api_docs/python/tf/function for more details.\n",
      "WARNING:tensorflow:9 out of the last 9 calls to <function Model.make_predict_function.<locals>.predict_function at 0x7fbd60eccee0> triggered tf.function retracing. Tracing is expensive and the excessive number of tracings is likely due to passing python objects instead of tensors. Also, tf.function has experimental_relax_shapes=True option that relaxes argument shapes that can avoid unnecessary retracing. Please refer to https://www.tensorflow.org/tutorials/customization/performance#python_or_tensor_args and https://www.tensorflow.org/api_docs/python/tf/function for more details.\n",
      "WARNING:tensorflow:10 out of the last 10 calls to <function Model.make_predict_function.<locals>.predict_function at 0x7fbd60eccee0> triggered tf.function retracing. Tracing is expensive and the excessive number of tracings is likely due to passing python objects instead of tensors. Also, tf.function has experimental_relax_shapes=True option that relaxes argument shapes that can avoid unnecessary retracing. Please refer to https://www.tensorflow.org/tutorials/customization/performance#python_or_tensor_args and https://www.tensorflow.org/api_docs/python/tf/function for more details.\n",
      "boxes: [[64.02952516078949, 464.04667069017887, 187.6374915726483, 547.5656549409032], [70.27932953834534, 16.83873689174652, 292.72840479016304, 187.13197803497314], [272.44244756922126, 496.5303811132908, 573.6987047195435, 722.7571838796139], [-3.7031904458999634, 592.1817613840103, 142.85512977838516, 718.2205233871937], [254.9995565265417, 294.4480157494545, 474.74243113584816, 444.2794572710991], [48.264625173062086, 322.97682297229767, 201.96579875797033, 430.21399157494307], [178.79126270860434, 770.9875917434692, 372.6236720699817, 917.3568983078003]] confidences:  [1.         0.99999213 0.99995077 0.99974447 0.99889106 0.99772125\n",
      " 0.99323565] elapsed_time:  7.3155\n"
     ]
    }
   ],
   "source": [
    "face_detector = face_detector_loader('MTCNNTFFaceDetector')\n",
    "res = face_detector.detect_faces(img, is_rgb=False, get_time=True, confidence=0.99)\n",
    "for points in res['landmarks'].values():\n",
    "    Point.put_point(img, points, radius=3)\n",
    "img = Box.put_box(img, res['boxes'])\n",
    "print(\"boxes:\", res['boxes'], \"confidences: \", res['confidences'], \"elapsed_time: \", res['elapsed_time'])\n",
    "show_destroy_cv2(img)"
   ]
  },
  {
   "cell_type": "markdown",
   "metadata": {},
   "source": [
    "### MTCNN Face Detector For PyTorch\n",
    "#### (Activate Your Pytorch Environment)"
   ]
  },
  {
   "cell_type": "code",
   "execution_count": null,
   "metadata": {
    "collapsed": false,
    "jupyter": {
     "outputs_hidden": false
    },
    "pycharm": {
     "is_executing": true,
     "name": "#%%\n"
    }
   },
   "outputs": [],
   "source": [
    "face_detector = face_detector_loader('MTCNNTorchFaceDetector')\n",
    "res = face_detector.detect_faces(img, is_rgb=False, get_time=True, confidence=0.99)\n",
    "for points in res['landmarks'].values():\n",
    "    Point.put_point(img, points, radius=3)\n",
    "img = Box.put_box(img, res['boxes'])\n",
    "print(\"boxes:\", res['boxes'], \"confidences: \", res['confidences'], \"elapsed_time: \", res['elapsed_time'])\n",
    "show_destroy_cv2(img)"
   ]
  },
  {
   "cell_type": "markdown",
   "metadata": {},
   "source": [
    "### SSD CV2 Face Detector For Caffe"
   ]
  },
  {
   "cell_type": "code",
   "execution_count": null,
   "metadata": {
    "collapsed": false,
    "jupyter": {
     "outputs_hidden": false
    },
    "pycharm": {
     "is_executing": true,
     "name": "#%%\n"
    }
   },
   "outputs": [],
   "source": [
    "face_detector = face_detector_loader('SSDCV2CaffeFaceDetector')\n",
    "res = face_detector.detect_faces(img, is_rgb=False, get_time=True)\n",
    "for points in res['landmarks'].values():\n",
    "    Point.put_point(img, points, radius=3)\n",
    "img = Box.put_box(img, res['boxes'])\n",
    "print(\"boxes:\", res['boxes'], \"confidences: \", res['confidences'], \"elapsed_time: \", res['elapsed_time'])\n",
    "show_destroy_cv2(img)"
   ]
  },
  {
   "cell_type": "markdown",
   "metadata": {},
   "source": [
    "### Haarcascade Cv2 Face Detector"
   ]
  },
  {
   "cell_type": "code",
   "execution_count": null,
   "metadata": {
    "collapsed": false,
    "jupyter": {
     "outputs_hidden": false
    },
    "pycharm": {
     "is_executing": true,
     "name": "#%%\n"
    }
   },
   "outputs": [],
   "source": [
    "face_detector = face_detector_loader(\"HaarcascadeCV2FaceDetector\")\n",
    "res = face_detector.detect_faces(img, is_rgb=False, get_time=True)\n",
    "for points in res['landmarks'].values():\n",
    "    Point.put_point(img, points, radius=3)\n",
    "img = Box.put_box(img, res['boxes'])\n",
    "print(\"boxes:\", res['boxes'], \"confidences: \", res['confidences'], \"elapsed_time: \", res['elapsed_time'])\n",
    "show_destroy_cv2(img)\n"
   ]
  }
 ],
 "metadata": {
  "kernelspec": {
   "display_name": "PyCharm (deep_utils)",
   "language": "python",
   "name": "pycharm-8bca0aac"
  },
  "language_info": {
   "codemirror_mode": {
    "name": "ipython",
    "version": 3
   },
   "file_extension": ".py",
   "mimetype": "text/x-python",
   "name": "python",
   "nbconvert_exporter": "python",
   "pygments_lexer": "ipython3",
   "version": "3.8.11"
  }
 },
 "nbformat": 4,
 "nbformat_minor": 4
}