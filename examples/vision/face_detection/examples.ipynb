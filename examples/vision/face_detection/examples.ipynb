{
 "cells": [
  {
   "cell_type": "code",
   "execution_count": null,
   "metadata": {
    "pycharm": {
     "is_executing": true
    },
    "tags": []
   },
   "outputs": [],
   "source": [
    "import cv2\n",
    "from deep_utils import Box, show_destroy_cv2, Point\n",
    "from deep_utils import face_detector_loader"
   ]
  },
  {
   "cell_type": "markdown",
   "metadata": {
    "pycharm": {
     "name": "#%% md\n"
    }
   },
   "source": [
    "### Load Your Image or Images Here"
   ]
  },
  {
   "cell_type": "code",
   "execution_count": null,
   "metadata": {
    "collapsed": false,
    "jupyter": {
     "outputs_hidden": false
    },
    "pycharm": {
     "name": "#%%\n"
    }
   },
   "outputs": [],
   "source": [
    "img = cv2.imread('../data/movie-stars.jpg')"
   ]
  },
  {
   "cell_type": "markdown",
   "metadata": {
    "tags": []
   },
   "source": [
    "### Then Select The Model You Want to Use Below\n",
    "<br>"
   ]
  },
  {
   "cell_type": "markdown",
   "metadata": {},
   "source": [
    "### MTCNN Face Detector For Tensorflow\n",
    "#### (Activate Your Tensorflow >= 2.x Environment)"
   ]
  },
  {
   "cell_type": "code",
   "execution_count": null,
   "metadata": {
    "collapsed": false,
    "jupyter": {
     "outputs_hidden": false
    },
    "pycharm": {
     "is_executing": true,
     "name": "#%%\n"
    }
   },
   "source": [
    "face_detector = face_detector_loader('MTCNNTFFaceDetector')\n",
    "res = face_detector.detect_faces(img, is_rgb=False, get_time=True, confidence=0.99)\n",
    "for points in res['landmarks'].values():\n",
    "    Point.put_point(img, points, radius=3)\n",
    "img = Box.put_box(img, res['boxes'])\n",
    "print(\"boxes:\", res['boxes'], \"confidences: \", res['confidences'], \"elapsed_time: \", res['elapsed_time'])\n",
    "show_destroy_cv2(img)"
   ]
  },
  {
   "cell_type": "markdown",
   "metadata": {},
   "source": [
    "### MTCNN Face Detector For PyTorch\n",
    "#### (Activate Your Pytorch Environment)"
   ]
  },
  {
   "cell_type": "code",
   "execution_count": null,
   "metadata": {
    "collapsed": false,
    "jupyter": {
     "outputs_hidden": false
    },
    "pycharm": {
     "is_executing": true,
     "name": "#%%\n"
    }
   },
   "outputs": [],
   "source": [
    "face_detector = face_detector_loader('MTCNNTorchFaceDetector')\n",
    "res = face_detector.detect_faces(img, is_rgb=False, get_time=True, confidence=0.99)\n",
    "for points in res['landmarks'].values():\n",
    "    Point.put_point(img, points, radius=3)\n",
    "img = Box.put_box(img, res['boxes'])\n",
    "print(\"boxes:\", res['boxes'], \"confidences: \", res['confidences'], \"elapsed_time: \", res['elapsed_time'])\n",
    "show_destroy_cv2(img)"
   ]
  },
  {
   "cell_type": "markdown",
   "metadata": {},
   "source": [
    "### SSD CV2 Face Detector For Caffe"
   ]
  },
  {
   "cell_type": "code",
   "execution_count": null,
   "metadata": {
    "collapsed": false,
    "jupyter": {
     "outputs_hidden": false
    },
    "pycharm": {
     "is_executing": true,
     "name": "#%%\n"
    }
   },
   "outputs": [],
   "source": [
    "face_detector = face_detector_loader('SSDCV2CaffeFaceDetector')\n",
    "res = face_detector.detect_faces(img, is_rgb=False, get_time=True)\n",
    "for points in res['landmarks'].values():\n",
    "    Point.put_point(img, points, radius=3)\n",
    "img = Box.put_box(img, res['boxes'])\n",
    "print(\"boxes:\", res['boxes'], \"confidences: \", res['confidences'], \"elapsed_time: \", res['elapsed_time'])\n",
    "show_destroy_cv2(img)"
   ]
  },
  {
   "cell_type": "markdown",
   "metadata": {},
   "source": [
    "### Haarcascade Cv2 Face Detector"
   ]
  },
  {
   "cell_type": "code",
   "execution_count": null,
   "metadata": {
    "collapsed": false,
    "jupyter": {
     "outputs_hidden": false
    },
    "pycharm": {
     "is_executing": true,
     "name": "#%%\n"
    }
   },
   "outputs": [],
   "source": [
    "face_detector = face_detector_loader(\"HaarcascadeCV2FaceDetector\")\n",
    "res = face_detector.detect_faces(img, is_rgb=False, get_time=True)\n",
    "for points in res['landmarks'].values():\n",
    "    Point.put_point(img, points, radius=3)\n",
    "img = Box.put_box(img, res['boxes'])\n",
    "print(\"boxes:\", res['boxes'], \"confidences: \", res['confidences'], \"elapsed_time: \", res['elapsed_time'])\n",
    "show_destroy_cv2(img)\n"
   ]
  }
 ],
 "metadata": {
  "kernelspec": {
   "display_name": "PyCharm (deep_utils)",
   "language": "python",
   "name": "pycharm-8bca0aac"
  },
  "language_info": {
   "codemirror_mode": {
    "name": "ipython",
    "version": 3
   },
   "file_extension": ".py",
   "mimetype": "text/x-python",
   "name": "python",
   "nbconvert_exporter": "python",
   "pygments_lexer": "ipython3",
   "version": "3.8.11"
  }
 },
 "nbformat": 4,
 "nbformat_minor": 4
}
